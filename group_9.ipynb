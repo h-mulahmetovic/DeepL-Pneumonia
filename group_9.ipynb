{
 "cells": [
  {
   "cell_type": "markdown",
   "metadata": {},
   "source": [
    "# Task 1 – The Dataset"
   ]
  },
  {
   "cell_type": "markdown",
   "metadata": {},
   "source": [
    "All images are x-ray images taken in the chest region of children aged 1-5 from the\n",
    "Guangzhou Women and Children’s Medical Center. There are 1100 images of healthy\n",
    "humans, as well as 1100 images of people with pneumonia.\n",
    "Keep in mind, that the image format is jpeg, and there are 3 color channels.\n",
    "You need to organize the data into directories as shown on Figure 1. You need to determine\n",
    "the training/validation/testing split yourselves but need to justify your split choice."
   ]
  },
  {
   "cell_type": "code",
   "execution_count": null,
   "metadata": {
    "vscode": {
     "languageId": "plaintext"
    }
   },
   "outputs": [],
   "source": []
  },
  {
   "cell_type": "markdown",
   "metadata": {},
   "source": [
    "# Task 2 – Data Loading and Augmentation"
   ]
  },
  {
   "cell_type": "markdown",
   "metadata": {},
   "source": [
    "We take the data from task 1, using the CustomDataset class we can load the data into the model, using torch DataLoader.\n",
    "The data augmentation consists of a random horizontal flip, a random rotation up to 20 degrees and an affine transformation to make the model more robust for random patient oerientation. The randomaffine transform makes the model more robust. A scalejitter transformation makes the model more robust to images taken at different scales. Gaussian blur and noise make the model more robust to imperfect data."
   ]
  },
  {
   "cell_type": "code",
   "execution_count": null,
   "metadata": {
    "vscode": {
     "languageId": "plaintext"
    }
   },
   "outputs": [],
   "source": []
  },
  {
   "cell_type": "markdown",
   "metadata": {},
   "source": [
    "# Task 3 – Construction the network"
   ]
  },
  {
   "cell_type": "markdown",
   "metadata": {},
   "source": [
    "After successfully creating both the custom dataset and the dataloader, you need to create a\n",
    "neural network, and use the data loader to feed the network. The architecture, complexity and\n",
    "regularization are all up to you, but you need to justify your choices in comments. You are\n",
    "more than welcome to replicate already known architectures or architectures we made during\n",
    "the course, but you are NOT allowed to use any pretrained networks. You are also not\n",
    "allowed to use any training data that is not included on ItsLearning."
   ]
  },
  {
   "cell_type": "markdown",
   "metadata": {},
   "source": [
    "Carefully consider which hyperparameters to test and strategically try to find the optimal\n",
    "architecture for the task. In the comments, please describe your method for the optimization\n",
    "and your choice of hyperparameters. Remember that there is an underlying competition, and\n",
    "the highest accuracy wins. The competition will be measured based on the saved model, so\n",
    "make sure to submit only the best one!"
   ]
  },
  {
   "cell_type": "code",
   "execution_count": null,
   "metadata": {
    "vscode": {
     "languageId": "plaintext"
    }
   },
   "outputs": [],
   "source": []
  },
  {
   "cell_type": "markdown",
   "metadata": {},
   "source": [
    "# Task 4 - Visualizing your results"
   ]
  },
  {
   "cell_type": "markdown",
   "metadata": {},
   "source": [
    "Finally, you must visualize some aspects of your model. It can be a graph of the\n",
    "training/validation performance, visualization of the filters or feature maps, or anything you\n",
    "can think of. This must be saved as an image file and uploaded along with your model and\n",
    "code."
   ]
  },
  {
   "cell_type": "code",
   "execution_count": null,
   "metadata": {
    "vscode": {
     "languageId": "plaintext"
    }
   },
   "outputs": [],
   "source": []
  }
 ],
 "metadata": {
  "language_info": {
   "name": "python"
  }
 },
 "nbformat": 4,
 "nbformat_minor": 2
}
