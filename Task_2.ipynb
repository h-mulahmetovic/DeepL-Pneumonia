{
 "cells": [
  {
   "cell_type": "code",
   "execution_count": 13,
   "metadata": {},
   "outputs": [],
   "source": [
    "import numpy as np\n",
    "import glob\n",
    "import torch\n",
    "import torchvision\n",
    "from torch.utils.data import Dataset, DataLoader, random_split\n",
    "from PIL import Image\n",
    "import torchvision.transforms as transforms"
   ]
  },
  {
   "cell_type": "code",
   "execution_count": 14,
   "metadata": {},
   "outputs": [],
   "source": [
    "class CustomDataset(Dataset):\n",
    "    def __init__(self, img_size, class_names, path=None, transformations=None, num_per_class: int = -1):\n",
    "        self.img_size = img_size\n",
    "        self.path = path\n",
    "        self.num_per_class = num_per_class\n",
    "        self.class_names = class_names\n",
    "        self.transforms = transformations\n",
    "        self.data = []\n",
    "        self.labels = []\n",
    "\n",
    "        if path:\n",
    "            self.readImages()\n",
    "\n",
    "        self.standard_transforms = transforms.Compose([\n",
    "            transforms.ToTensor(),\n",
    "            transforms.Normalize(mean=[0.485, 0.456, 0.406], std=[0.229, 0.224, 0.225])\n",
    "        ])\n",
    "\n",
    "    def readImages(self):\n",
    "        for id, class_name in self.class_names.items():\n",
    "            print(f'Loading images from class: {id} : {class_name}')\n",
    "            img_path = glob.glob(f'{self.path}{class_name}/*.jpg')\n",
    "            if self.num_per_class > 0:\n",
    "                img_path = img_path[:self.num_per_class]\n",
    "            self.labels.extend([id] * len(img_path))\n",
    "            for filename in img_path:\n",
    "                img = Image.open(filename).convert('RGB')\n",
    "                img = img.resize(self.img_size)\n",
    "                self.data.append(img)\n",
    "\n",
    "    def __len__(self):\n",
    "        return len(self.data)\n",
    "\n",
    "    def __getitem__(self, idx):\n",
    "        img = self.data[idx]\n",
    "        label = self.labels[idx]\n",
    "\n",
    "        if self.transforms:\n",
    "            img = self.transforms(img)\n",
    "        else:\n",
    "            img = self.standard_transforms(img)\n",
    "\n",
    "        label = torch.tensor(label, dtype=torch.long)\n",
    "\n",
    "        return img, label"
   ]
  },
  {
   "cell_type": "code",
   "execution_count": 15,
   "metadata": {},
   "outputs": [
    {
     "name": "stdout",
     "output_type": "stream",
     "text": [
      "Loading images from class: 0 : normal\n"
     ]
    }
   ],
   "source": [
    "train_path = \"./data/training/\"\n",
    "test_path = \"./data/testing/\"\n",
    "img_size=(256,256)\n",
    "\n",
    "\n",
    "train_transform = transforms.Compose([\n",
    "    transforms.ToTensor(),\n",
    "    transforms.RandomHorizontalFlip(p=0.5),\n",
    "    transforms.RandomRotation(degrees=20),\n",
    "    transforms.RandomAffine(degrees=20, translate=(0.1, 0.1)),\n",
    "    # transforms.v2.ScaleJitter(target_scale=img_size, scale_range=(0.9, 1.1)),\n",
    "    transforms.RandomAutocontrast(p=0.25),\n",
    "    # transforms.GaussianBlur(kernel_size=3, sigma=(0,2.0)),\n",
    "    # transforms.GaussianNoise(kernel_size=3, std=0.1)\n",
    "])\n",
    "\n",
    "\n",
    "class_names = [name[len(train_path):] for name in glob.glob(f'{train_path}*')]\n",
    "class_names = dict(zip(range(len(class_names)), class_names))\n",
    "\n",
    "full_dataset = CustomDataset(img_size=img_size, path=train_path, class_names=class_names, transformations=train_transform)"
   ]
  }
 ],
 "metadata": {
  "kernelspec": {
   "display_name": "deeplearning",
   "language": "python",
   "name": "python3"
  },
  "language_info": {
   "codemirror_mode": {
    "name": "ipython",
    "version": 3
   },
   "file_extension": ".py",
   "mimetype": "text/x-python",
   "name": "python",
   "nbconvert_exporter": "python",
   "pygments_lexer": "ipython3",
   "version": "3.12.4"
  }
 },
 "nbformat": 4,
 "nbformat_minor": 2
}
